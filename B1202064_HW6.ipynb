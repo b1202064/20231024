{
  "nbformat": 4,
  "nbformat_minor": 0,
  "metadata": {
    "colab": {
      "provenance": []
    },
    "kernelspec": {
      "name": "python3",
      "display_name": "Python 3"
    },
    "language_info": {
      "name": "python"
    }
  },
  "cells": [
    {
      "cell_type": "code",
      "execution_count": 4,
      "metadata": {
        "id": "JTYaeCxnjcko",
        "colab": {
          "base_uri": "https://localhost:8080/"
        },
        "outputId": "4937c598-035b-4a8e-9c95-b9aa6622a0e2"
      },
      "outputs": [
        {
          "output_type": "stream",
          "name": "stdout",
          "text": [
            "12\n",
            "           *\n",
            "          ***\n",
            "         *****\n",
            "        *******\n",
            "       *********\n",
            "      ***********\n",
            "     *************\n",
            "    ***************\n",
            "   *****************\n",
            "  *******************\n",
            " *********************\n",
            "***********************\n",
            "          ***\n",
            "          ***\n",
            "          ***\n",
            "          ***\n",
            "          ***\n"
          ]
        }
      ],
      "source": [
        "def tree(n):\n",
        " for a in range(1,n+1):\n",
        "  for b in range(1,n+1-a):\n",
        "   print(' ',end='')\n",
        "  for c in range(1,2*a):\n",
        "   print('*',end='')\n",
        "  print('')\n",
        " for p in range(1,6):\n",
        "  for q in range(1,n-1):\n",
        "    print(' ',end='')\n",
        "  for r in range(1,4):\n",
        "   print('*',end='')\n",
        "  print('')\n",
        "n=int(input())\n",
        "tree(n)"
      ]
    },
    {
      "cell_type": "code",
      "source": [
        "def BMI(h,w):\n",
        " try:\n",
        "  h=float(h)/100\n",
        "  h*=h\n",
        "  b=float(w)/h\n",
        "  return b\n",
        " except:\n",
        "  return \"輸入內容錯誤\"\n",
        "\n",
        "h,w=input(\"請輸入身高(公分)\"),input(\"請輸入體重(公斤)\")\n",
        "print('身高(公分):',h)\n",
        "print('體重(公斤):',w)\n",
        "result=BMI(h,w)\n",
        "print('BMI:',result)\n",
        "if result!='輸入內容錯誤':\n",
        " if result<18.5:\n",
        "  print('體位:過輕')\n",
        " elif result<24:\n",
        "  print('體位:適中')\n",
        " elif result<27:\n",
        "  print('體位:過重')\n",
        " else:\n",
        "  print('體位:肥胖')\n",
        "\n",
        "\n",
        ""
      ],
      "metadata": {
        "colab": {
          "base_uri": "https://localhost:8080/"
        },
        "id": "gSsVsEI1kwPw",
        "outputId": "409ef8e6-fd2c-4bd0-ae1a-e72c8370b5da"
      },
      "execution_count": 12,
      "outputs": [
        {
          "output_type": "stream",
          "name": "stdout",
          "text": [
            "請輸入身高(公分)170\n",
            "請輸入體重(公斤)a\n",
            "身高(公分): 170\n",
            "體重(公斤): a\n",
            "BMI: 輸入內容錯誤\n"
          ]
        }
      ]
    }
  ]
}